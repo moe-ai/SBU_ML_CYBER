{
 "cells": [
  {
   "cell_type": "markdown",
   "metadata": {
    "nbpages": {
     "level": 0,
     "link": "[](https://jckantor.github.io/CBE30338/01.01-Getting-Started-with-Python-and-Jupyter-Notebooks.html)",
     "section": ""
    }
   },
   "source": [
    "<!--NOTEBOOK_HEADER-->\n",
    "*This notebook contains material from [CBE30338](https://jckantor.github.io/CBE30338);\n",
    "content is available [on Github](https://github.com/jckantor/CBE30338.git).*\n"
   ]
  },
  {
   "cell_type": "markdown",
   "metadata": {
    "nbpages": {
     "level": 0,
     "link": "[](https://jckantor.github.io/CBE30338/01.01-Getting-Started-with-Python-and-Jupyter-Notebooks.html)",
     "section": ""
    }
   },
   "source": [
    "<!--NAVIGATION-->\n",
    "< [1.0 Getting Started](https://jckantor.github.io/CBE30338/01.00-Getting-Started.html) | [Contents](toc.html) | [Tag Index](tag_index.html) | [1.2 Python Basics](https://jckantor.github.io/CBE30338/01.02-Python-Basics.html) ><p><a href=\"https://colab.research.google.com/github/jckantor/CBE30338/blob/master/docs/01.01-Getting-Started-with-Python-and-Jupyter-Notebooks.ipynb\"> <img align=\"left\" src=\"https://colab.research.google.com/assets/colab-badge.svg\" alt=\"Open in Colab\" title=\"Open in Google Colaboratory\"></a><p><a href=\"https://jckantor.github.io/CBE30338/01.01-Getting-Started-with-Python-and-Jupyter-Notebooks.ipynb\"> <img align=\"left\" src=\"https://img.shields.io/badge/Github-Download-blue.svg\" alt=\"Download\" title=\"Download Notebook\"></a>"
   ]
  },
  {
   "cell_type": "markdown",
   "metadata": {
    "nbpages": {
     "level": 1,
     "link": "[1.1 Getting Started with Python and Jupyter Notebooks](https://jckantor.github.io/CBE30338/01.01-Getting-Started-with-Python-and-Jupyter-Notebooks.html#1.1-Getting-Started-with-Python-and-Jupyter-Notebooks)",
     "section": "1.1 Getting Started with Python and Jupyter Notebooks"
    },
    "slideshow": {
     "slide_type": "slide"
    }
   },
   "source": [
    "# 1.1 Getting Started with Python and Jupyter Notebooks"
   ]
  },
  {
   "cell_type": "markdown",
   "metadata": {
    "nbpages": {
     "level": 2,
     "link": "[1.1.1 Summary](https://jckantor.github.io/CBE30338/01.01-Getting-Started-with-Python-and-Jupyter-Notebooks.html#1.1.1-Summary)",
     "section": "1.1.1 Summary"
    },
    "slideshow": {
     "slide_type": "slide"
    }
   },
   "source": [
    "## 1.1.1 Summary\n",
    "\n",
    "The purpose of this [Jupyter Notebook](http://jupyter.org/) is to get you started using Python and Jupyter Notebooks for routine chemical engineering calculations. This introduction assumes this is your first exposure to Python or Jupyter notebooks."
   ]
  },
  {
   "cell_type": "markdown",
   "metadata": {
    "nbpages": {
     "level": 2,
     "link": "[1.1.2 Step 0: Gain Executable Access to Jupyter Notebooks](https://jckantor.github.io/CBE30338/01.01-Getting-Started-with-Python-and-Jupyter-Notebooks.html#1.1.2-Step-0:-Gain-Executable-Access-to-Jupyter-Notebooks)",
     "section": "1.1.2 Step 0: Gain Executable Access to Jupyter Notebooks"
    },
    "slideshow": {
     "slide_type": "slide"
    }
   },
   "source": [
    "## 1.1.2 Step 0: Gain Executable Access to Jupyter Notebooks\n",
    "\n",
    "Jupyter notebooks are documents that can be viewed and executed inside any modern web browser. Since you're reading this notebook, you already know how to view a Jupyter notebook. The next step is to learn how to execute computations that may be embedded in a Jupyter notebook.\n",
    "\n",
    "To execute Python code in a notebook you will need access to a Python kernal. A kernal is simply a program that runs in the background, maintains workspace memory for variables and functions, and executes Python code.  The kernal can be located on the same laptop as your web browser or located in an on-line cloud service. \n",
    "\n",
    "**Important Note Regarding Versions** There are two versions of Python in widespread use. Version 2.7 released in 2010, which was the last release of the 2.x series. Version 3.5 is the most recent release of the 3.x series which represents the future direction of language. It has taken years for the major scientific libraries to complete the transition from 2.x to 3.x, but it is now safe to recommend Python 3.x for widespread use. So for this course be sure to use latest verstion, currently 3.6, of the Python language."
   ]
  },
  {
   "cell_type": "markdown",
   "metadata": {
    "nbpages": {
     "level": 3,
     "link": "[1.1.2.1 Using Jupyter/Python in the Cloud](https://jckantor.github.io/CBE30338/01.01-Getting-Started-with-Python-and-Jupyter-Notebooks.html#1.1.2.1-Using-Jupyter/Python-in-the-Cloud)",
     "section": "1.1.2.1 Using Jupyter/Python in the Cloud"
    },
    "slideshow": {
     "slide_type": "slide"
    }
   },
   "source": [
    "### 1.1.2.1 Using Jupyter/Python in the Cloud\n",
    "\n",
    "The easiest way to use Jupyter notebooks is to sign up for a free or paid account on a cloud-based service such as [Wakari.io](https://www.wakari.io/) or [SageMathCloud](https://cloud.sagemath.com/). You will need continuous internet connectivity to access your work, but the advantages are there is no software to install or maintain. All you need is a modern web browser on your laptop, Chromebook, tablet or other device. Note that the free services are generally heavily oversubscribed, so you should consider a paid account to assure access during prime hours.\n",
    "\n",
    "There are also demonstration sites in the cloud, such as [tmpnb.org](https://tmpnb.org/). These start an interactive session where you can upload an existing notebook or create a new one from scratch. Though convenient, these sites are intended mainly for demonstration and generally quite overloaded. More significantly, there is no way to retain your work between sessions, and some python functionality is removed for security reasons."
   ]
  },
  {
   "cell_type": "markdown",
   "metadata": {
    "nbpages": {
     "level": 3,
     "link": "[1.1.2.2 Installing Jupyter/Python on your Laptop](https://jckantor.github.io/CBE30338/01.01-Getting-Started-with-Python-and-Jupyter-Notebooks.html#1.1.2.2-Installing-Jupyter/Python-on-your-Laptop)",
     "section": "1.1.2.2 Installing Jupyter/Python on your Laptop"
    },
    "slideshow": {
     "slide_type": "slide"
    }
   },
   "source": [
    "### 1.1.2.2 Installing Jupyter/Python on your Laptop\n",
    "\n",
    "For regular off-line use you should consider installing a Jupyter Notebook/Python environment directly on your laptop. This will provide you with reliable off-line access to a computational environment. This will also allow you to install additional code libraries to meet particular needs. \n",
    "\n",
    "Choosing this option will require an initial software installation and routine updates. For this course the recommended package is [Anaconda](https://store.continuum.io/cshop/anaconda/) available from [Continuum Analytics](http://continuum.io/). Downloading and installing the software is well documented and easy to follow. Allow about 10-30 minutes for the installation depending on your connection speed. \n",
    "\n",
    "After installing be sure to check for updates before proceeding further. With the Anaconda package this is done by executing the following two commands in a terminal window:\n",
    "\n",
    "    > conda update conda\n",
    "    > conda update anaconda\n",
    "\n",
    "Anaconda includes an 'Anaconda Navigator' application that simplifies startup of the notebook environment and manage the update process."
   ]
  },
  {
   "cell_type": "markdown",
   "metadata": {
    "nbpages": {
     "level": 2,
     "link": "[1.1.3 Step 1: Start a Jupyter Notebook Session](https://jckantor.github.io/CBE30338/01.01-Getting-Started-with-Python-and-Jupyter-Notebooks.html#1.1.3-Step-1:-Start-a-Jupyter-Notebook-Session)",
     "section": "1.1.3 Step 1: Start a Jupyter Notebook Session"
    }
   },
   "source": [
    "## 1.1.3 Step 1: Start a Jupyter Notebook Session\n",
    "\n",
    "If you are using a cloud-based service a Jupyter session will be started when you log on. \n",
    "\n",
    "If you have installed a Jupyter/Python distribution on your laptop then you can open a Jupyter session in one of two different ways:\n",
    "\n",
    "* Use the Anaconda Navigator App, or \n",
    "* open a terminal window on your laptop and execute the following statement at the command line:\n",
    "\n",
    "        > jupyter notebook\n",
    "\n",
    "Either way, once you have opened a session you should see a browser window like this:\n",
    "\n",
    "![Screen Shot Jupyter Session](figures/Screen-Shot-Jupyter-Session.png)\n",
    "\n",
    "At this point the browser displays a list of directories and files. You can navigate amoung the directories in the usual way by clicking on directory names or on the 'breadcrumbs' located just about the listing. \n",
    "\n",
    "Jupyter notebooks are simply files in a directory with a `.ipynb` suffix. They can be stored in any directory including Dropbox or Google Drive. Upload and create new Jupyter notebooks in the displayed directory using the appropriate buttons. Use the checkboxes to select items for other actions, such as to duplicate, to rename, or to delete notebooks and directories.\n",
    "\n",
    "* select one of your existing notebooks to work on,\n",
    "* start a new notebook by clicking on the `New Notebook` button, or \n",
    "* import a notebook from another directory by dragging it onto the list of notebooks.\n",
    "\n",
    "An IPython notebook consists of cells that hold headings, text, or python code. The user interface is relatively self-explanatory. Take a few minutes now to open, rename, and save a new notebook. \n",
    "\n",
    "Here's a quick video overview of Jupyter notebooks."
   ]
  },
  {
   "cell_type": "code",
   "execution_count": 1,
   "metadata": {
    "nbpages": {
     "level": 2,
     "link": "[1.1.3 Step 1: Start a Jupyter Notebook Session](https://jckantor.github.io/CBE30338/01.01-Getting-Started-with-Python-and-Jupyter-Notebooks.html#1.1.3-Step-1:-Start-a-Jupyter-Notebook-Session)",
     "section": "1.1.3 Step 1: Start a Jupyter Notebook Session"
    }
   },
   "outputs": [
    {
     "data": {
      "image/jpeg": "[encoded data removed]",
      "text/html": [
       "\n",
       "        <iframe\n",
       "            width=\"560\"\n",
       "            height=\"315\"\n",
       "            src=\"https://www.youtube.com/embed/HW29067qVWk?rel=0\"\n",
       "            frameborder=\"0\"\n",
       "            allowfullscreen\n",
       "        ></iframe>\n",
       "        "
      ],
      "text/plain": [
       "<IPython.lib.display.YouTubeVideo at 0x102b24ad0>"
      ]
     },
     "execution_count": 1,
     "metadata": {},
     "output_type": "execute_result"
    }
   ],
   "source": [
    "from IPython.display import YouTubeVideo\n",
    "YouTubeVideo(\"HW29067qVWk\",560,315,rel=0)"
   ]
  },
  {
   "cell_type": "markdown",
   "metadata": {
    "nbpages": {
     "level": 2,
     "link": "[1.1.4 Step 2: Simple Calculations with Python](https://jckantor.github.io/CBE30338/01.01-Getting-Started-with-Python-and-Jupyter-Notebooks.html#1.1.4-Step-2:-Simple-Calculations-with-Python)",
     "section": "1.1.4 Step 2: Simple Calculations with Python"
    }
   },
   "source": [
    "## 1.1.4 Step 2: Simple Calculations with Python\n",
    "\n",
    "Python is an elegant and modern language for programming and problem solving that has found increasing use by engineers and scientists.  In the next few cells we'll demonstrate some basic Python functionality."
   ]
  },
  {
   "cell_type": "markdown",
   "metadata": {
    "nbpages": {
     "level": 3,
     "link": "[1.1.4.1 Basic Arithmetic Operations](https://jckantor.github.io/CBE30338/01.01-Getting-Started-with-Python-and-Jupyter-Notebooks.html#1.1.4.1-Basic-Arithmetic-Operations)",
     "section": "1.1.4.1 Basic Arithmetic Operations"
    }
   },
   "source": [
    "### 1.1.4.1 Basic Arithmetic Operations\n",
    "\n",
    "Basic arithmetic operations are built into the Python langauge. Here are some examples. In particular, note that exponentiation is done with the \\*\\* operator."
   ]
  },
  {
   "cell_type": "code",
   "execution_count": 2,
   "metadata": {
    "nbpages": {
     "level": 3,
     "link": "[1.1.4.1 Basic Arithmetic Operations](https://jckantor.github.io/CBE30338/01.01-Getting-Started-with-Python-and-Jupyter-Notebooks.html#1.1.4.1-Basic-Arithmetic-Operations)",
     "section": "1.1.4.1 Basic Arithmetic Operations"
    }
   },
   "outputs": [
    {
     "name": "stdout",
     "output_type": "stream",
     "text": [
      "14\n",
      "144\n",
      "6.0\n"
     ]
    }
   ],
   "source": [
    "a = 12\n",
    "b = 2\n",
    "\n",
    "print(a + b)\n",
    "print(a**b)\n",
    "print(a/b)"
   ]
  },
  {
   "cell_type": "markdown",
   "metadata": {
    "nbpages": {
     "level": 3,
     "link": "[1.1.4.2 Python Libraries](https://jckantor.github.io/CBE30338/01.01-Getting-Started-with-Python-and-Jupyter-Notebooks.html#1.1.4.2-Python-Libraries)",
     "section": "1.1.4.2 Python Libraries"
    }
   },
   "source": [
    "### 1.1.4.2 Python Libraries\n",
    "\n",
    "The Python language has only very basic operations. Most math functions are in various math libraries. The `numpy` library is convenient library.  This next cell shows how to import `numpy` with the prefix `np`, then use it to call a common mathematical functions."
   ]
  },
  {
   "cell_type": "code",
   "execution_count": 3,
   "metadata": {
    "nbpages": {
     "level": 3,
     "link": "[1.1.4.2 Python Libraries](https://jckantor.github.io/CBE30338/01.01-Getting-Started-with-Python-and-Jupyter-Notebooks.html#1.1.4.2-Python-Libraries)",
     "section": "1.1.4.2 Python Libraries"
    }
   },
   "outputs": [
    {
     "name": "stdout",
     "output_type": "stream",
     "text": [
      "3.141592653589793\n",
      "2.718281828459045\n",
      "0.707106781187\n",
      "0.707106781187\n",
      "1.0\n"
     ]
    }
   ],
   "source": [
    "import numpy as np\n",
    "\n",
    "# mathematical constants\n",
    "print(np.pi)\n",
    "print(np.e)\n",
    "\n",
    "# trignometric functions\n",
    "angle = np.pi/4\n",
    "print(np.sin(angle))\n",
    "print(np.cos(angle))\n",
    "print(np.tan(angle))"
   ]
  },
  {
   "cell_type": "markdown",
   "metadata": {
    "nbpages": {
     "level": 3,
     "link": "[1.1.4.3 Working with Lists](https://jckantor.github.io/CBE30338/01.01-Getting-Started-with-Python-and-Jupyter-Notebooks.html#1.1.4.3-Working-with-Lists)",
     "section": "1.1.4.3 Working with Lists"
    }
   },
   "source": [
    "### 1.1.4.3 Working with Lists\n",
    "\n",
    "Lists are a versatile way of organizing your data in Python. Here are some examples, more can be found on [this Khan Academy video](http://youtu.be/zEyEC34MY1A)."
   ]
  },
  {
   "cell_type": "code",
   "execution_count": 4,
   "metadata": {
    "nbpages": {
     "level": 3,
     "link": "[1.1.4.3 Working with Lists](https://jckantor.github.io/CBE30338/01.01-Getting-Started-with-Python-and-Jupyter-Notebooks.html#1.1.4.3-Working-with-Lists)",
     "section": "1.1.4.3 Working with Lists"
    }
   },
   "outputs": [
    {
     "data": {
      "text/plain": [
       "[1, 2, 3, 4]"
      ]
     },
     "execution_count": 4,
     "metadata": {},
     "output_type": "execute_result"
    }
   ],
   "source": [
    "xList = [1, 2, 3, 4]\n",
    "xList"
   ]
  },
  {
   "cell_type": "markdown",
   "metadata": {
    "nbpages": {
     "level": 3,
     "link": "[1.1.4.3 Working with Lists](https://jckantor.github.io/CBE30338/01.01-Getting-Started-with-Python-and-Jupyter-Notebooks.html#1.1.4.3-Working-with-Lists)",
     "section": "1.1.4.3 Working with Lists"
    }
   },
   "source": [
    "Concatentation is the operation of joining one list to another. "
   ]
  },
  {
   "cell_type": "code",
   "execution_count": 5,
   "metadata": {
    "nbpages": {
     "level": 3,
     "link": "[1.1.4.3 Working with Lists](https://jckantor.github.io/CBE30338/01.01-Getting-Started-with-Python-and-Jupyter-Notebooks.html#1.1.4.3-Working-with-Lists)",
     "section": "1.1.4.3 Working with Lists"
    }
   },
   "outputs": [
    {
     "data": {
      "text/plain": [
       "[1, 2, 3, 4, 5, 6, 7, 8]"
      ]
     },
     "execution_count": 5,
     "metadata": {},
     "output_type": "execute_result"
    }
   ],
   "source": [
    "# Concatenation\n",
    "x = [1, 2, 3, 4];\n",
    "y = [5, 6, 7, 8];\n",
    "\n",
    "x + y"
   ]
  },
  {
   "cell_type": "markdown",
   "metadata": {
    "nbpages": {
     "level": 3,
     "link": "[1.1.4.3 Working with Lists](https://jckantor.github.io/CBE30338/01.01-Getting-Started-with-Python-and-Jupyter-Notebooks.html#1.1.4.3-Working-with-Lists)",
     "section": "1.1.4.3 Working with Lists"
    }
   },
   "source": [
    "Sum a list of numbers"
   ]
  },
  {
   "cell_type": "code",
   "execution_count": 6,
   "metadata": {
    "nbpages": {
     "level": 3,
     "link": "[1.1.4.3 Working with Lists](https://jckantor.github.io/CBE30338/01.01-Getting-Started-with-Python-and-Jupyter-Notebooks.html#1.1.4.3-Working-with-Lists)",
     "section": "1.1.4.3 Working with Lists"
    }
   },
   "outputs": [
    {
     "data": {
      "text/plain": [
       "10"
      ]
     },
     "execution_count": 6,
     "metadata": {},
     "output_type": "execute_result"
    }
   ],
   "source": [
    "np.sum(x)"
   ]
  },
  {
   "cell_type": "markdown",
   "metadata": {
    "nbpages": {
     "level": 3,
     "link": "[1.1.4.3 Working with Lists](https://jckantor.github.io/CBE30338/01.01-Getting-Started-with-Python-and-Jupyter-Notebooks.html#1.1.4.3-Working-with-Lists)",
     "section": "1.1.4.3 Working with Lists"
    }
   },
   "source": [
    "An element-by-element operation between two lists may be performed with "
   ]
  },
  {
   "cell_type": "code",
   "execution_count": 7,
   "metadata": {
    "nbpages": {
     "level": 3,
     "link": "[1.1.4.3 Working with Lists](https://jckantor.github.io/CBE30338/01.01-Getting-Started-with-Python-and-Jupyter-Notebooks.html#1.1.4.3-Working-with-Lists)",
     "section": "1.1.4.3 Working with Lists"
    }
   },
   "outputs": [
    {
     "name": "stdout",
     "output_type": "stream",
     "text": [
      "[ 6  8 10 12]\n",
      "70\n"
     ]
    }
   ],
   "source": [
    "print(np.add(x,y))\n",
    "print(np.dot(x,y))"
   ]
  },
  {
   "cell_type": "markdown",
   "metadata": {
    "nbpages": {
     "level": 3,
     "link": "[1.1.4.3 Working with Lists](https://jckantor.github.io/CBE30338/01.01-Getting-Started-with-Python-and-Jupyter-Notebooks.html#1.1.4.3-Working-with-Lists)",
     "section": "1.1.4.3 Working with Lists"
    }
   },
   "source": [
    "A for loop is a means for iterating over the elements of a list. The colon marks the start of code that will be executed for each element of a list. Indenting has meaning in Python. In this case, everything in the indented block will be executed on each iteration of the for loop. This example also demonstrates string formatting."
   ]
  },
  {
   "cell_type": "code",
   "execution_count": 8,
   "metadata": {
    "nbpages": {
     "level": 3,
     "link": "[1.1.4.3 Working with Lists](https://jckantor.github.io/CBE30338/01.01-Getting-Started-with-Python-and-Jupyter-Notebooks.html#1.1.4.3-Working-with-Lists)",
     "section": "1.1.4.3 Working with Lists"
    }
   },
   "outputs": [
    {
     "name": "stdout",
     "output_type": "stream",
     "text": [
      "sin(1) =  0.84147\n",
      "sin(2) =  0.90930\n",
      "sin(3) =  0.14112\n",
      "sin(4) = -0.75680\n"
     ]
    }
   ],
   "source": [
    "for x in xList:\n",
    "    print(\"sin({0}) = {1:8.5f}\".format(x,np.sin(x)))"
   ]
  },
  {
   "cell_type": "markdown",
   "metadata": {
    "nbpages": {
     "level": 3,
     "link": "[1.1.4.4 Working with Dictionaries](https://jckantor.github.io/CBE30338/01.01-Getting-Started-with-Python-and-Jupyter-Notebooks.html#1.1.4.4-Working-with-Dictionaries)",
     "section": "1.1.4.4 Working with Dictionaries"
    }
   },
   "source": [
    "### 1.1.4.4 Working with Dictionaries\n",
    "\n",
    "Dictionaries are useful for storing and retrieving data as key-value pairs.  For example, here is a short dictionary of molar masses. The keys are molecular formulas, and the values are the corresponding molar masses."
   ]
  },
  {
   "cell_type": "code",
   "execution_count": 9,
   "metadata": {
    "nbpages": {
     "level": 3,
     "link": "[1.1.4.4 Working with Dictionaries](https://jckantor.github.io/CBE30338/01.01-Getting-Started-with-Python-and-Jupyter-Notebooks.html#1.1.4.4-Working-with-Dictionaries)",
     "section": "1.1.4.4 Working with Dictionaries"
    }
   },
   "outputs": [
    {
     "data": {
      "text/plain": [
       "{'CH4': 16.04, 'CO2': 44.01, 'H2O': 18.02, 'O2': 32.0}"
      ]
     },
     "execution_count": 9,
     "metadata": {},
     "output_type": "execute_result"
    }
   ],
   "source": [
    "mw = {'CH4': 16.04, 'H2O': 18.02, 'O2':32.00, 'CO2': 44.01}\n",
    "mw"
   ]
  },
  {
   "cell_type": "markdown",
   "metadata": {
    "nbpages": {
     "level": 3,
     "link": "[1.1.4.4 Working with Dictionaries](https://jckantor.github.io/CBE30338/01.01-Getting-Started-with-Python-and-Jupyter-Notebooks.html#1.1.4.4-Working-with-Dictionaries)",
     "section": "1.1.4.4 Working with Dictionaries"
    }
   },
   "source": [
    "We can a value to an existing dictionary."
   ]
  },
  {
   "cell_type": "code",
   "execution_count": 10,
   "metadata": {
    "nbpages": {
     "level": 3,
     "link": "[1.1.4.4 Working with Dictionaries](https://jckantor.github.io/CBE30338/01.01-Getting-Started-with-Python-and-Jupyter-Notebooks.html#1.1.4.4-Working-with-Dictionaries)",
     "section": "1.1.4.4 Working with Dictionaries"
    }
   },
   "outputs": [
    {
     "data": {
      "text/plain": [
       "{'C8H18': 114.23, 'CH4': 16.04, 'CO2': 44.01, 'H2O': 18.02, 'O2': 32.0}"
      ]
     },
     "execution_count": 10,
     "metadata": {},
     "output_type": "execute_result"
    }
   ],
   "source": [
    "mw['C8H18'] = 114.23\n",
    "mw"
   ]
  },
  {
   "cell_type": "markdown",
   "metadata": {
    "nbpages": {
     "level": 3,
     "link": "[1.1.4.4 Working with Dictionaries](https://jckantor.github.io/CBE30338/01.01-Getting-Started-with-Python-and-Jupyter-Notebooks.html#1.1.4.4-Working-with-Dictionaries)",
     "section": "1.1.4.4 Working with Dictionaries"
    }
   },
   "source": [
    "We can retrieve a value from a dictionary."
   ]
  },
  {
   "cell_type": "code",
   "execution_count": 11,
   "metadata": {
    "nbpages": {
     "level": 3,
     "link": "[1.1.4.4 Working with Dictionaries](https://jckantor.github.io/CBE30338/01.01-Getting-Started-with-Python-and-Jupyter-Notebooks.html#1.1.4.4-Working-with-Dictionaries)",
     "section": "1.1.4.4 Working with Dictionaries"
    }
   },
   "outputs": [
    {
     "data": {
      "text/plain": [
       "16.04"
      ]
     },
     "execution_count": 11,
     "metadata": {},
     "output_type": "execute_result"
    }
   ],
   "source": [
    "mw['CH4']"
   ]
  },
  {
   "cell_type": "markdown",
   "metadata": {
    "nbpages": {
     "level": 3,
     "link": "[1.1.4.4 Working with Dictionaries](https://jckantor.github.io/CBE30338/01.01-Getting-Started-with-Python-and-Jupyter-Notebooks.html#1.1.4.4-Working-with-Dictionaries)",
     "section": "1.1.4.4 Working with Dictionaries"
    }
   },
   "source": [
    "A for loop is a useful means of interating over all key-value pairs of a dictionary."
   ]
  },
  {
   "cell_type": "code",
   "execution_count": 12,
   "metadata": {
    "nbpages": {
     "level": 3,
     "link": "[1.1.4.4 Working with Dictionaries](https://jckantor.github.io/CBE30338/01.01-Getting-Started-with-Python-and-Jupyter-Notebooks.html#1.1.4.4-Working-with-Dictionaries)",
     "section": "1.1.4.4 Working with Dictionaries"
    }
   },
   "outputs": [
    {
     "name": "stdout",
     "output_type": "stream",
     "text": [
      "The molar mass of H2O is 18.02  \n",
      "The molar mass of CH4 is 16.04  \n",
      "The molar mass of C8H18 is 114.23 \n",
      "The molar mass of O2 is 32.00  \n",
      "The molar mass of CO2 is 44.01  \n"
     ]
    }
   ],
   "source": [
    "for species in mw.keys():\n",
    "    print(\"The molar mass of {:<s} is {:<7.2f}\".format(species, mw[species]))"
   ]
  },
  {
   "cell_type": "markdown",
   "metadata": {
    "nbpages": {
     "level": 3,
     "link": "[1.1.4.4 Working with Dictionaries](https://jckantor.github.io/CBE30338/01.01-Getting-Started-with-Python-and-Jupyter-Notebooks.html#1.1.4.4-Working-with-Dictionaries)",
     "section": "1.1.4.4 Working with Dictionaries"
    }
   },
   "source": [
    "Dictionaries can be sorted by key or by value"
   ]
  },
  {
   "cell_type": "code",
   "execution_count": 13,
   "metadata": {
    "nbpages": {
     "level": 3,
     "link": "[1.1.4.4 Working with Dictionaries](https://jckantor.github.io/CBE30338/01.01-Getting-Started-with-Python-and-Jupyter-Notebooks.html#1.1.4.4-Working-with-Dictionaries)",
     "section": "1.1.4.4 Working with Dictionaries"
    }
   },
   "outputs": [
    {
     "name": "stdout",
     "output_type": "stream",
     "text": [
      " C8H18      114.23\n",
      " CH4         16.04\n",
      " CO2         44.01\n",
      " H2O         18.02\n",
      " O2          32.00\n"
     ]
    }
   ],
   "source": [
    "for species in sorted(mw):\n",
    "    print(\" {:<8s}  {:>7.2f}\".format(species, mw[species]))"
   ]
  },
  {
   "cell_type": "code",
   "execution_count": 14,
   "metadata": {
    "nbpages": {
     "level": 3,
     "link": "[1.1.4.4 Working with Dictionaries](https://jckantor.github.io/CBE30338/01.01-Getting-Started-with-Python-and-Jupyter-Notebooks.html#1.1.4.4-Working-with-Dictionaries)",
     "section": "1.1.4.4 Working with Dictionaries"
    }
   },
   "outputs": [
    {
     "name": "stdout",
     "output_type": "stream",
     "text": [
      " CH4         16.04\n",
      " H2O         18.02\n",
      " O2          32.00\n",
      " CO2         44.01\n",
      " C8H18      114.23\n"
     ]
    }
   ],
   "source": [
    "for species in sorted(mw, key = mw.get):\n",
    "    print(\" {:<8s}  {:>7.2f}\".format(species, mw[species]))"
   ]
  },
  {
   "cell_type": "markdown",
   "metadata": {
    "nbpages": {
     "level": 3,
     "link": "[1.1.4.5 Plotting with Matplotlib](https://jckantor.github.io/CBE30338/01.01-Getting-Started-with-Python-and-Jupyter-Notebooks.html#1.1.4.5-Plotting-with-Matplotlib)",
     "section": "1.1.4.5 Plotting with Matplotlib"
    }
   },
   "source": [
    "### 1.1.4.5 Plotting with Matplotlib\n",
    "\n",
    "Importing the `matplotlib.pyplot` library gives IPython notebooks plotting functionality very similar to Matlab's. Here are some examples using functions from the "
   ]
  },
  {
   "cell_type": "code",
   "execution_count": 15,
   "metadata": {
    "nbpages": {
     "level": 3,
     "link": "[1.1.4.5 Plotting with Matplotlib](https://jckantor.github.io/CBE30338/01.01-Getting-Started-with-Python-and-Jupyter-Notebooks.html#1.1.4.5-Plotting-with-Matplotlib)",
     "section": "1.1.4.5 Plotting with Matplotlib"
    }
   },
   "outputs": [
    {
     "data": {
      "image/png": "[encoded data removed]",
      "text/plain": [
       "<matplotlib.figure.Figure at 0x10f7c1e48>"
      ]
     },
     "metadata": {},
     "output_type": "display_data"
    }
   ],
   "source": [
    "%matplotlib inline\n",
    "\n",
    "import matplotlib.pyplot as plt\n",
    "import numpy as np\n",
    "\n",
    "x = np.linspace(0,10)\n",
    "y = np.sin(x)\n",
    "z = np.cos(x)\n",
    "\n",
    "plt.plot(x,y,'b',x,z,'r')\n",
    "plt.xlabel('Radians');\n",
    "plt.ylabel('Value');\n",
    "plt.title('Plotting Demonstration')\n",
    "plt.legend(['Sin','Cos'])\n",
    "plt.grid()"
   ]
  },
  {
   "cell_type": "code",
   "execution_count": 16,
   "metadata": {
    "nbpages": {
     "level": 3,
     "link": "[1.1.4.5 Plotting with Matplotlib](https://jckantor.github.io/CBE30338/01.01-Getting-Started-with-Python-and-Jupyter-Notebooks.html#1.1.4.5-Plotting-with-Matplotlib)",
     "section": "1.1.4.5 Plotting with Matplotlib"
    }
   },
   "outputs": [
    {
     "data": {
      "text/plain": [
       "(-1.09972447591003,\n",
       " 1.0979832896606587,\n",
       " -1.0992804688576738,\n",
       " 1.0999657366122702)"
      ]
     },
     "execution_count": 16,
     "metadata": {},
     "output_type": "execute_result"
    },
    {
     "data": {
      "image/png": "[encoded data removed]",
      "text/plain": [
       "<matplotlib.figure.Figure at 0x10e93a710>"
      ]
     },
     "metadata": {},
     "output_type": "display_data"
    }
   ],
   "source": [
    "plt.plot(y,z)\n",
    "plt.axis('equal')"
   ]
  },
  {
   "cell_type": "code",
   "execution_count": 17,
   "metadata": {
    "nbpages": {
     "level": 3,
     "link": "[1.1.4.5 Plotting with Matplotlib](https://jckantor.github.io/CBE30338/01.01-Getting-Started-with-Python-and-Jupyter-Notebooks.html#1.1.4.5-Plotting-with-Matplotlib)",
     "section": "1.1.4.5 Plotting with Matplotlib"
    }
   },
   "outputs": [
    {
     "data": {
      "text/plain": [
       "<matplotlib.text.Text at 0x112e79390>"
      ]
     },
     "execution_count": 17,
     "metadata": {},
     "output_type": "execute_result"
    },
    {
     "data": {
      "image/png": "[encoded data removed]",
      "text/plain": [
       "<matplotlib.figure.Figure at 0x112dc7ba8>"
      ]
     },
     "metadata": {},
     "output_type": "display_data"
    }
   ],
   "source": [
    "plt.subplot(2,1,1)\n",
    "plt.plot(x,y)\n",
    "plt.title('Sin(x)')\n",
    "\n",
    "plt.subplot(2,1,2)\n",
    "plt.plot(x,z)\n",
    "plt.title('Cos(x)')"
   ]
  },
  {
   "cell_type": "markdown",
   "metadata": {
    "nbpages": {
     "level": 3,
     "link": "[1.1.4.6 Solve Equations using Sympy Library](https://jckantor.github.io/CBE30338/01.01-Getting-Started-with-Python-and-Jupyter-Notebooks.html#1.1.4.6-Solve-Equations-using-Sympy-Library)",
     "section": "1.1.4.6 Solve Equations using Sympy Library"
    }
   },
   "source": [
    "### 1.1.4.6 Solve Equations using Sympy Library\n",
    "\n",
    "One of the best features of Python is the ability to extend it's functionality by importing special purpose libraries of functions. Here we demonstrate the use of a symbolic algebra package [`Sympy`](http://sympy.org/en/index.html) for routine problem solving."
   ]
  },
  {
   "cell_type": "code",
   "execution_count": 18,
   "metadata": {
    "nbpages": {
     "level": 3,
     "link": "[1.1.4.6 Solve Equations using Sympy Library](https://jckantor.github.io/CBE30338/01.01-Getting-Started-with-Python-and-Jupyter-Notebooks.html#1.1.4.6-Solve-Equations-using-Sympy-Library)",
     "section": "1.1.4.6 Solve Equations using Sympy Library"
    }
   },
   "outputs": [
    {
     "name": "stdout",
     "output_type": "stream",
     "text": [
      "85521.9882637211/V\n"
     ]
    },
    {
     "data": {
      "image/png": "[encoded data removed]",
      "text/plain": [
       "<matplotlib.figure.Figure at 0x112bd64e0>"
      ]
     },
     "metadata": {},
     "output_type": "display_data"
    },
    {
     "data": {
      "text/plain": [
       "<sympy.plotting.plot.Plot at 0x11439fda0>"
      ]
     },
     "execution_count": 18,
     "metadata": {},
     "output_type": "execute_result"
    }
   ],
   "source": [
    "import sympy as sym\n",
    "\n",
    "sym.var('P V n R T');\n",
    "\n",
    "# Gas constant\n",
    "R = 8.314        # J/K/gmol\n",
    "R = R * 1000     # J/K/kgmol\n",
    "\n",
    "# Moles of air\n",
    "mAir = 1         # kg\n",
    "mwAir = 28.97    # kg/kg-mol\n",
    "n = mAir/mwAir   # kg-mol\n",
    "\n",
    "# Temperature\n",
    "T = 298\n",
    "\n",
    "# Equation\n",
    "eqn = sym.Eq(P*V,n*R*T)\n",
    "\n",
    "# Solve for P \n",
    "f = sym.solve(eqn,P)\n",
    "print(f[0])\n",
    "\n",
    "# Use the sympy plot function to plot\n",
    "sym.plot(f[0],(V,1,10),xlabel='Volume m**3',ylabel='Pressure Pa')"
   ]
  },
  {
   "cell_type": "markdown",
   "metadata": {
    "nbpages": {
     "level": 2,
     "link": "[1.1.5 Step 3: Where to Learn More](https://jckantor.github.io/CBE30338/01.01-Getting-Started-with-Python-and-Jupyter-Notebooks.html#1.1.5-Step-3:-Where-to-Learn-More)",
     "section": "1.1.5 Step 3: Where to Learn More"
    }
   },
   "source": [
    "## 1.1.5 Step 3: Where to Learn More\n",
    "\n",
    "Python offers a full range of programming language features, and there is a seemingly endless range of packages for scientific and engineering computations. Here are some suggestions on places you can go for more information on programming for engineering applications in Python."
   ]
  },
  {
   "cell_type": "markdown",
   "metadata": {
    "nbpages": {
     "level": 3,
     "link": "[1.1.5.1 Introduction to Python for Science](https://jckantor.github.io/CBE30338/01.01-Getting-Started-with-Python-and-Jupyter-Notebooks.html#1.1.5.1-Introduction-to-Python-for-Science)",
     "section": "1.1.5.1 Introduction to Python for Science"
    }
   },
   "source": [
    "### 1.1.5.1 Introduction to Python for Science\n",
    "\n",
    "This excellent introduction to python is aimed at undergraduates in science with no programming experience. It is free and available at the following link.\n",
    "\n",
    "* [Introduction to Python for Science](https://github.com/djpine/pyman)"
   ]
  },
  {
   "cell_type": "markdown",
   "metadata": {
    "nbpages": {
     "level": 3,
     "link": "[1.1.5.2 Tutorial Introduction to Python for Science and Engineering](https://jckantor.github.io/CBE30338/01.01-Getting-Started-with-Python-and-Jupyter-Notebooks.html#1.1.5.2-Tutorial-Introduction-to-Python-for-Science-and-Engineering)",
     "section": "1.1.5.2 Tutorial Introduction to Python for Science and Engineering"
    }
   },
   "source": [
    "### 1.1.5.2 Tutorial Introduction to Python for Science and Engineering\n",
    "\n",
    "The following text is licensed by the Hesburgh Library for use by Notre Dame students and faculty only. Please refer to the library's [acceptable use policy](http://library.nd.edu/eresources/access/acceptable_use.shtml). Others can find it at [Springer](http://www.springer.com/us/book/9783642549588) or [Amazon](http://www.amazon.com/Scientific-Programming-Computational-Science-Engineering/dp/3642549586/ref=dp_ob_title_bk). Resources for this book are available on [github](http://hplgit.github.io/scipro-primer/).\n",
    "\n",
    "* [A Primer on Scientific Programming with Python (Fourth Edition)](http://link.springer.com.proxy.library.nd.edu/book/10.1007/978-3-642-54959-5) by Hans Petter Langtangen. Resources for this book are available on [github](http://hplgit.github.io/scipro-primer/).\n",
    "\n",
    "pycse is a package of python functions, examples, and document prepared by John Kitchin at Carnegie Mellon University. It is a recommended for its coverage of topics relevant to chemical engineers, including a chapter on typical chemical engineering computations. \n",
    "\n",
    "* [pycse - Python Computations in Science and Engineering](https://github.com/jkitchin/pycse/blob/master/pycse.pdf) by John Kitchin at Carnegie Mellon. This is a link into the the [github repository for pycse](https://github.com/jkitchin/pycse), click on the `Raw` button to download the `.pdf` file."
   ]
  },
  {
   "cell_type": "markdown",
   "metadata": {
    "nbpages": {
     "level": 3,
     "link": "[1.1.5.3 Interative learning and on-line tutorials](https://jckantor.github.io/CBE30338/01.01-Getting-Started-with-Python-and-Jupyter-Notebooks.html#1.1.5.3-Interative-learning-and-on-line-tutorials)",
     "section": "1.1.5.3 Interative learning and on-line tutorials"
    }
   },
   "source": [
    "### 1.1.5.3 Interative learning and on-line tutorials\n",
    "\n",
    "* [Code Academy on Python](http://www.codecademy.com/tracks/python)\n",
    "* [Khan Academy Videos on Python Programming](https://www.khanacademy.org/science/computer-science-subject/computer-science)\n",
    "* [Python Tutorial](http://docs.python.org/2/tutorial/)\n",
    "* [Think Python: How to Think Like a Computer Scientist](http://www.greenteapress.com/thinkpython/html/index.html)\n",
    "* [Engineering with Python](http://www.engineeringwithpython.com/)"
   ]
  },
  {
   "cell_type": "markdown",
   "metadata": {
    "nbpages": {
     "level": 3,
     "link": "[1.1.5.4 Official documentation, examples, and galleries](https://jckantor.github.io/CBE30338/01.01-Getting-Started-with-Python-and-Jupyter-Notebooks.html#1.1.5.4-Official-documentation,-examples,-and-galleries)",
     "section": "1.1.5.4 Official documentation, examples, and galleries"
    }
   },
   "source": [
    "### 1.1.5.4 Official documentation, examples, and galleries\n",
    "\n",
    "* [Notebook Examples](https://github.com/ipython/ipython/tree/master/examples/notebooks)\n",
    "* [Notebook Gallery](https://github.com/ipython/ipython/wiki/A-gallery-of-interesting-IPython-Notebooks)\n",
    "* [Official Notebook Documentation](http://ipython.org/ipython-doc/stable/interactive/notebook.html)\n",
    "* [Matplotlib](http://matplotlib.org/index.html) "
   ]
  },
  {
   "cell_type": "code",
   "execution_count": null,
   "metadata": {
    "collapsed": true,
    "nbpages": {
     "level": 3,
     "link": "[1.1.5.4 Official documentation, examples, and galleries](https://jckantor.github.io/CBE30338/01.01-Getting-Started-with-Python-and-Jupyter-Notebooks.html#1.1.5.4-Official-documentation,-examples,-and-galleries)",
     "section": "1.1.5.4 Official documentation, examples, and galleries"
    }
   },
   "outputs": [],
   "source": []
  },
  {
   "cell_type": "markdown",
   "metadata": {
    "nbpages": {
     "level": 3,
     "link": "[1.1.5.4 Official documentation, examples, and galleries](https://jckantor.github.io/CBE30338/01.01-Getting-Started-with-Python-and-Jupyter-Notebooks.html#1.1.5.4-Official-documentation,-examples,-and-galleries)",
     "section": "1.1.5.4 Official documentation, examples, and galleries"
    }
   },
   "source": [
    "<!--NAVIGATION-->\n",
    "< [1.0 Getting Started](https://jckantor.github.io/CBE30338/01.00-Getting-Started.html) | [Contents](toc.html) | [Tag Index](tag_index.html) | [1.2 Python Basics](https://jckantor.github.io/CBE30338/01.02-Python-Basics.html) ><p><a href=\"https://colab.research.google.com/github/jckantor/CBE30338/blob/master/docs/01.01-Getting-Started-with-Python-and-Jupyter-Notebooks.ipynb\"> <img align=\"left\" src=\"https://colab.research.google.com/assets/colab-badge.svg\" alt=\"Open in Colab\" title=\"Open in Google Colaboratory\"></a><p><a href=\"https://jckantor.github.io/CBE30338/01.01-Getting-Started-with-Python-and-Jupyter-Notebooks.ipynb\"> <img align=\"left\" src=\"https://img.shields.io/badge/Github-Download-blue.svg\" alt=\"Download\" title=\"Download Notebook\"></a>"
   ]
  }
 ],
 "metadata": {
  "anaconda-cloud": {},
  "kernelspec": {
   "display_name": "Python 3",
   "language": "python",
   "name": "python3"
  },
  "language_info": {
   "codemirror_mode": {
    "name": "ipython",
    "version": 3
   },
   "file_extension": ".py",
   "mimetype": "text/x-python",
   "name": "python",
   "nbconvert_exporter": "python",
   "pygments_lexer": "ipython3",
   "version": "3.7.4"
  }
 },
 "nbformat": 4,
 "nbformat_minor": 2
}
